{
 "cells": [
  {
   "cell_type": "markdown",
   "id": "be38b736",
   "metadata": {},
   "source": [
    "# ____________________________________________________________________"
   ]
  },
  {
   "cell_type": "markdown",
   "id": "94cb43fa",
   "metadata": {},
   "source": [
    "## TASK 1: Data Identification and collection"
   ]
  },
  {
   "cell_type": "markdown",
   "id": "7650d65b",
   "metadata": {},
   "source": [
    "The API I chose is of CityBikes which tells the data of the 615 bike across europe."
   ]
  },
  {
   "cell_type": "code",
   "execution_count": 125,
   "id": "f2aa91e1",
   "metadata": {},
   "outputs": [],
   "source": [
    "# importing the required library\n",
    "import requests # library to request data from API\n",
    "import pandas as pd # library to convert raw data in to tabular data or data frame\n",
    "import json # library to work with json data format\n",
    "import csv # library to work with csv files format"
   ]
  },
  {
   "cell_type": "markdown",
   "id": "8631bbe5",
   "metadata": {},
   "source": [
    "Requesting data from API now:"
   ]
  },
  {
   "cell_type": "code",
   "execution_count": 126,
   "id": "f3b4abe9",
   "metadata": {},
   "outputs": [
    {
     "name": "stdout",
     "output_type": "stream",
     "text": [
      "200\n"
     ]
    }
   ],
   "source": [
    "api = \"http://api.citybik.es/v2/networks\" # link to get data from API\n",
    "response = requests.get(api)  # requesting data from link\n",
    "\n",
    "print(response.status_code) # checking the status of the response from the aPI"
   ]
  },
  {
   "cell_type": "markdown",
   "id": "bf959fb6",
   "metadata": {},
   "source": [
    "The answer obtained from the status is 200 this means that the request is successful and API is ready to provide data. Now printing data in json format because the API only supports json file format."
   ]
  },
  {
   "cell_type": "code",
   "execution_count": 127,
   "id": "43a391ad",
   "metadata": {},
   "outputs": [],
   "source": [
    "data = response.json()['networks']; # storing data from API in a variable\n"
   ]
  },
  {
   "cell_type": "code",
   "execution_count": 128,
   "id": "62a4117c",
   "metadata": {},
   "outputs": [
    {
     "name": "stdout",
     "output_type": "stream",
     "text": [
      "<class 'pandas.core.frame.DataFrame'>\n",
      "615\n"
     ]
    }
   ],
   "source": [
    "df = pd.DataFrame(data) # converting data in to data frames\n",
    "\n",
    "print(type(df))\n",
    "print(len(df))"
   ]
  },
  {
   "cell_type": "markdown",
   "id": "d9a30a0a",
   "metadata": {},
   "source": [
    "Now checking the details of our data frame which tells the data type of the feature and the count of their existense. From this we can see that if our data set is complete or if it has any missing values in the features."
   ]
  },
  {
   "cell_type": "code",
   "execution_count": 129,
   "id": "8a6dd2a2",
   "metadata": {},
   "outputs": [
    {
     "name": "stdout",
     "output_type": "stream",
     "text": [
      "<class 'pandas.core.frame.DataFrame'>\n",
      "RangeIndex: 615 entries, 0 to 614\n",
      "Data columns (total 9 columns):\n",
      " #   Column     Non-Null Count  Dtype \n",
      "---  ------     --------------  ----- \n",
      " 0   company    603 non-null    object\n",
      " 1   href       615 non-null    object\n",
      " 2   id         615 non-null    object\n",
      " 3   location   615 non-null    object\n",
      " 4   name       615 non-null    object\n",
      " 5   source     158 non-null    object\n",
      " 6   gbfs_href  105 non-null    object\n",
      " 7   license    27 non-null     object\n",
      " 8   ebikes     24 non-null     object\n",
      "dtypes: object(9)\n",
      "memory usage: 43.4+ KB\n"
     ]
    }
   ],
   "source": [
    "df.info() # to check  the details about all the features or attributes in the data along with their data type. it also tells if the data set is complete or not"
   ]
  },
  {
   "cell_type": "code",
   "execution_count": 130,
   "id": "a2fd7d95",
   "metadata": {},
   "outputs": [
    {
     "data": {
      "text/plain": [
       "company       12\n",
       "href           0\n",
       "id             0\n",
       "location       0\n",
       "name           0\n",
       "source       457\n",
       "gbfs_href    510\n",
       "license      588\n",
       "ebikes       591\n",
       "dtype: int64"
      ]
     },
     "execution_count": 130,
     "metadata": {},
     "output_type": "execute_result"
    }
   ],
   "source": [
    "df.isnull().sum() # this command shows that how many null values are there for each data index"
   ]
  },
  {
   "cell_type": "code",
   "execution_count": 131,
   "id": "cea852e5",
   "metadata": {},
   "outputs": [
    {
     "data": {
      "text/html": [
       "<div>\n",
       "<style scoped>\n",
       "    .dataframe tbody tr th:only-of-type {\n",
       "        vertical-align: middle;\n",
       "    }\n",
       "\n",
       "    .dataframe tbody tr th {\n",
       "        vertical-align: top;\n",
       "    }\n",
       "\n",
       "    .dataframe thead th {\n",
       "        text-align: right;\n",
       "    }\n",
       "</style>\n",
       "<table border=\"1\" class=\"dataframe\">\n",
       "  <thead>\n",
       "    <tr style=\"text-align: right;\">\n",
       "      <th></th>\n",
       "      <th>company</th>\n",
       "      <th>href</th>\n",
       "      <th>id</th>\n",
       "      <th>location</th>\n",
       "      <th>name</th>\n",
       "      <th>source</th>\n",
       "      <th>gbfs_href</th>\n",
       "      <th>license</th>\n",
       "      <th>ebikes</th>\n",
       "    </tr>\n",
       "  </thead>\n",
       "  <tbody>\n",
       "    <tr>\n",
       "      <th>count</th>\n",
       "      <td>603</td>\n",
       "      <td>615</td>\n",
       "      <td>615</td>\n",
       "      <td>615</td>\n",
       "      <td>615</td>\n",
       "      <td>158</td>\n",
       "      <td>105</td>\n",
       "      <td>27</td>\n",
       "      <td>24</td>\n",
       "    </tr>\n",
       "    <tr>\n",
       "      <th>unique</th>\n",
       "      <td>86</td>\n",
       "      <td>615</td>\n",
       "      <td>615</td>\n",
       "      <td>612</td>\n",
       "      <td>407</td>\n",
       "      <td>136</td>\n",
       "      <td>104</td>\n",
       "      <td>5</td>\n",
       "      <td>1</td>\n",
       "    </tr>\n",
       "    <tr>\n",
       "      <th>top</th>\n",
       "      <td>[Nextbike GmbH]</td>\n",
       "      <td>/v2/networks/velobike-moscow</td>\n",
       "      <td>velobike-moscow</td>\n",
       "      <td>{'city': 'Poznań', 'country': 'PL', 'latitude'...</td>\n",
       "      <td>Nextbike</td>\n",
       "      <td>https://developer.jcdecaux.com</td>\n",
       "      <td></td>\n",
       "      <td>{'name': 'Open Licence', 'url': 'https://devel...</td>\n",
       "      <td>True</td>\n",
       "    </tr>\n",
       "    <tr>\n",
       "      <th>freq</th>\n",
       "      <td>253</td>\n",
       "      <td>1</td>\n",
       "      <td>1</td>\n",
       "      <td>2</td>\n",
       "      <td>59</td>\n",
       "      <td>23</td>\n",
       "      <td>2</td>\n",
       "      <td>23</td>\n",
       "      <td>24</td>\n",
       "    </tr>\n",
       "  </tbody>\n",
       "</table>\n",
       "</div>"
      ],
      "text/plain": [
       "                company                          href               id  \\\n",
       "count               603                           615              615   \n",
       "unique               86                           615              615   \n",
       "top     [Nextbike GmbH]  /v2/networks/velobike-moscow  velobike-moscow   \n",
       "freq                253                             1                1   \n",
       "\n",
       "                                                 location      name  \\\n",
       "count                                                 615       615   \n",
       "unique                                                612       407   \n",
       "top     {'city': 'Poznań', 'country': 'PL', 'latitude'...  Nextbike   \n",
       "freq                                                    2        59   \n",
       "\n",
       "                                source gbfs_href  \\\n",
       "count                              158       105   \n",
       "unique                             136       104   \n",
       "top     https://developer.jcdecaux.com             \n",
       "freq                                23         2   \n",
       "\n",
       "                                                  license ebikes  \n",
       "count                                                  27     24  \n",
       "unique                                                  5      1  \n",
       "top     {'name': 'Open Licence', 'url': 'https://devel...   True  \n",
       "freq                                                   23     24  "
      ]
     },
     "execution_count": 131,
     "metadata": {},
     "output_type": "execute_result"
    }
   ],
   "source": [
    "df.describe() # to describe the counts of the features and how the data for that feature would look like"
   ]
  },
  {
   "cell_type": "markdown",
   "id": "21a6f89c",
   "metadata": {},
   "source": [
    "From the results above we can see that the data set contains the data of 615 bikes. There are 86 companies in total for bikes as it is shown in the data above there are 86 uniques names of companies in the bike data. Almost every bike has unique location because the longitude and latitude will be different for every bike. "
   ]
  },
  {
   "cell_type": "code",
   "execution_count": 132,
   "id": "48d8311f",
   "metadata": {
    "scrolled": false
   },
   "outputs": [
    {
     "data": {
      "text/html": [
       "<div>\n",
       "<style scoped>\n",
       "    .dataframe tbody tr th:only-of-type {\n",
       "        vertical-align: middle;\n",
       "    }\n",
       "\n",
       "    .dataframe tbody tr th {\n",
       "        vertical-align: top;\n",
       "    }\n",
       "\n",
       "    .dataframe thead th {\n",
       "        text-align: right;\n",
       "    }\n",
       "</style>\n",
       "<table border=\"1\" class=\"dataframe\">\n",
       "  <thead>\n",
       "    <tr style=\"text-align: right;\">\n",
       "      <th></th>\n",
       "      <th>company</th>\n",
       "      <th>href</th>\n",
       "      <th>id</th>\n",
       "      <th>location</th>\n",
       "      <th>name</th>\n",
       "      <th>source</th>\n",
       "      <th>gbfs_href</th>\n",
       "      <th>license</th>\n",
       "      <th>ebikes</th>\n",
       "    </tr>\n",
       "  </thead>\n",
       "  <tbody>\n",
       "    <tr>\n",
       "      <th>0</th>\n",
       "      <td>[ЗАО «СитиБайк»]</td>\n",
       "      <td>/v2/networks/velobike-moscow</td>\n",
       "      <td>velobike-moscow</td>\n",
       "      <td>{'city': 'Moscow', 'country': 'RU', 'latitude'...</td>\n",
       "      <td>Velobike</td>\n",
       "      <td>NaN</td>\n",
       "      <td>NaN</td>\n",
       "      <td>NaN</td>\n",
       "      <td>NaN</td>\n",
       "    </tr>\n",
       "    <tr>\n",
       "      <th>1</th>\n",
       "      <td>[Urban Infrastructure Partner]</td>\n",
       "      <td>/v2/networks/baerum-bysykkel</td>\n",
       "      <td>baerum-bysykkel</td>\n",
       "      <td>{'city': 'Bærum', 'country': 'NO', 'latitude':...</td>\n",
       "      <td>Bysykkel</td>\n",
       "      <td>NaN</td>\n",
       "      <td>NaN</td>\n",
       "      <td>NaN</td>\n",
       "      <td>NaN</td>\n",
       "    </tr>\n",
       "    <tr>\n",
       "      <th>2</th>\n",
       "      <td>[Comunicare S.r.l.]</td>\n",
       "      <td>/v2/networks/bicincitta-siena</td>\n",
       "      <td>bicincitta-siena</td>\n",
       "      <td>{'city': 'Siena', 'country': 'IT', 'latitude':...</td>\n",
       "      <td>Bicincittà</td>\n",
       "      <td>https://www.bicincitta.com/frmLeStazioni.aspx?...</td>\n",
       "      <td>NaN</td>\n",
       "      <td>NaN</td>\n",
       "      <td>NaN</td>\n",
       "    </tr>\n",
       "    <tr>\n",
       "      <th>3</th>\n",
       "      <td>[Cyclopolis Systems]</td>\n",
       "      <td>/v2/networks/cyclopolis-maroussi</td>\n",
       "      <td>cyclopolis-maroussi</td>\n",
       "      <td>{'city': 'Maroussi', 'country': 'GR', 'latitud...</td>\n",
       "      <td>Cyclopolis</td>\n",
       "      <td>NaN</td>\n",
       "      <td>NaN</td>\n",
       "      <td>NaN</td>\n",
       "      <td>NaN</td>\n",
       "    </tr>\n",
       "    <tr>\n",
       "      <th>4</th>\n",
       "      <td>[Groundwork, Slough Borough Council, ITS]</td>\n",
       "      <td>/v2/networks/cycle-hire-slough</td>\n",
       "      <td>cycle-hire-slough</td>\n",
       "      <td>{'city': 'Slough', 'country': 'GB', 'latitude'...</td>\n",
       "      <td>Cycle Hire</td>\n",
       "      <td>NaN</td>\n",
       "      <td>NaN</td>\n",
       "      <td>NaN</td>\n",
       "      <td>NaN</td>\n",
       "    </tr>\n",
       "  </tbody>\n",
       "</table>\n",
       "</div>"
      ],
      "text/plain": [
       "                                     company  \\\n",
       "0                           [ЗАО «СитиБайк»]   \n",
       "1             [Urban Infrastructure Partner]   \n",
       "2                        [Comunicare S.r.l.]   \n",
       "3                       [Cyclopolis Systems]   \n",
       "4  [Groundwork, Slough Borough Council, ITS]   \n",
       "\n",
       "                               href                   id  \\\n",
       "0      /v2/networks/velobike-moscow      velobike-moscow   \n",
       "1      /v2/networks/baerum-bysykkel      baerum-bysykkel   \n",
       "2     /v2/networks/bicincitta-siena     bicincitta-siena   \n",
       "3  /v2/networks/cyclopolis-maroussi  cyclopolis-maroussi   \n",
       "4    /v2/networks/cycle-hire-slough    cycle-hire-slough   \n",
       "\n",
       "                                            location        name  \\\n",
       "0  {'city': 'Moscow', 'country': 'RU', 'latitude'...    Velobike   \n",
       "1  {'city': 'Bærum', 'country': 'NO', 'latitude':...    Bysykkel   \n",
       "2  {'city': 'Siena', 'country': 'IT', 'latitude':...  Bicincittà   \n",
       "3  {'city': 'Maroussi', 'country': 'GR', 'latitud...  Cyclopolis   \n",
       "4  {'city': 'Slough', 'country': 'GB', 'latitude'...  Cycle Hire   \n",
       "\n",
       "                                              source gbfs_href license ebikes  \n",
       "0                                                NaN       NaN     NaN    NaN  \n",
       "1                                                NaN       NaN     NaN    NaN  \n",
       "2  https://www.bicincitta.com/frmLeStazioni.aspx?...       NaN     NaN    NaN  \n",
       "3                                                NaN       NaN     NaN    NaN  \n",
       "4                                                NaN       NaN     NaN    NaN  "
      ]
     },
     "execution_count": 132,
     "metadata": {},
     "output_type": "execute_result"
    }
   ],
   "source": [
    "df.head() # showing some of the top of the list data frames"
   ]
  },
  {
   "cell_type": "markdown",
   "id": "151647c0",
   "metadata": {},
   "source": [
    "Now seperating the keys and values from our json data "
   ]
  },
  {
   "cell_type": "code",
   "execution_count": 133,
   "id": "885c12c8",
   "metadata": {},
   "outputs": [
    {
     "name": "stdout",
     "output_type": "stream",
     "text": [
      "Index(['company', 'href', 'id', 'location', 'name', 'source', 'gbfs_href',\n",
      "       'license', 'ebikes'],\n",
      "      dtype='object')\n"
     ]
    }
   ],
   "source": [
    "features = df.iloc[0,:].index # getting the attributes or headers\n",
    "print(features) # attributes"
   ]
  },
  {
   "cell_type": "code",
   "execution_count": 134,
   "id": "3b72d6ad",
   "metadata": {},
   "outputs": [
    {
     "name": "stdout",
     "output_type": "stream",
     "text": [
      "[list(['ЗАО «СитиБайк»']) '/v2/networks/velobike-moscow' 'velobike-moscow'\n",
      " {'city': 'Moscow', 'country': 'RU', 'latitude': 55.75, 'longitude': 37.616667}\n",
      " 'Velobike' nan nan nan nan]\n"
     ]
    }
   ],
   "source": [
    "valuess = df.iloc[0,:].values # getting the values under the headers\n",
    "print(valuess) # values"
   ]
  },
  {
   "cell_type": "markdown",
   "id": "1c937ae3",
   "metadata": {},
   "source": [
    "The keys or indexes of the data are found. It was found that 2 of the 8 index have the value which is another dictionary while the other indexes have single value of string data type. \n",
    "Here, I opened those dictioanries and put the keys as the variables and then made another dictionary which contains data for these 6 indexes and the data from other two 2 indexes in the form of another 6 variable. This expanded the final output."
   ]
  },
  {
   "cell_type": "code",
   "execution_count": 135,
   "id": "b1a1d68d",
   "metadata": {},
   "outputs": [
    {
     "name": "stdout",
     "output_type": "stream",
     "text": [
      "[\"['ЗАО «СитиБайк»']\", '/v2/networks/velobike-moscow', 'velobike-moscow', 'Moscow', 'RU', 37.616667, 55.75, 'Velobike', nan, nan, '', '', nan]\n"
     ]
    }
   ],
   "source": [
    "final_list = [] # list to store the final list of data for one bike\n",
    "    \n",
    "for d in range(len(df)): \n",
    "    temp_list = [] # list to store value data from data frame\n",
    "    temp_list2 = [] # a custom list to append the data as needed in the final final list\n",
    "    \n",
    "    # variables defined which were in the dictionary format in our obtained data in json format\n",
    "    location_city = \"\"\n",
    "    location_country = \"\"\n",
    "    location_longitude = 0\n",
    "    location_latitude = 0\n",
    "    license_name = \"\"\n",
    "    license_url = \"\"\n",
    "    \n",
    "    \n",
    "    temp_list = df.iloc[d,:].values # storing the obtained value in a list\n",
    "    \n",
    "    # stroring each value of the list in a variable\n",
    "    company = str(temp_list[0])\n",
    "    href  = temp_list[1]\n",
    "    id = temp_list[2]\n",
    "    location = temp_list[3]\n",
    "    name = temp_list[4]\n",
    "    source = temp_list[5]\n",
    "    gbfs_href = temp_list[6]\n",
    "    license = temp_list[7]\n",
    "    ebikes = temp_list[8]\n",
    "    \n",
    "    \n",
    "    # variables for location index (which was in dictionary format in the obtained data)\n",
    "    if pd.isna(location) == False: # if the value in not empty\n",
    "        location_city = location.get(\"city\")\n",
    "        location_country = location.get(\"country\")\n",
    "        location_longitude = location.get(\"longitude\") # float\n",
    "        location_latitude = location.get(\"latitude\") # float\n",
    "    \n",
    "    # varibale for license index (which was in dictionary format in the obtained data)\n",
    "    if pd.isna(license) == False: # if the value in not empty\n",
    "        license_name = license.get(\"name\")\n",
    "        license_url = license.get(\"url\")\n",
    "    \n",
    "    # appending each variable seperately is a custom list\n",
    "    temp_list2.append(company)\n",
    "    temp_list2.append(href)\n",
    "    temp_list2.append(id)\n",
    "    temp_list2.append(location_city)\n",
    "    temp_list2.append(location_country)\n",
    "    temp_list2.append(location_longitude)\n",
    "    temp_list2.append(location_latitude)\n",
    "    temp_list2.append(name)\n",
    "    temp_list2.append(source)\n",
    "    temp_list2.append(gbfs_href)\n",
    "    temp_list2.append(license_name)\n",
    "    temp_list2.append(license_url)\n",
    "    temp_list2.append(ebikes)\n",
    "     \n",
    "    final_list.append(temp_list2) # appending the custom list in a final list which now a complete data of one bike in one index of the list\n",
    "    \n",
    "print(final_list[0])"
   ]
  },
  {
   "cell_type": "code",
   "execution_count": 136,
   "id": "3854f558",
   "metadata": {},
   "outputs": [],
   "source": [
    "# defining the list of headers we want in the final csv file\n",
    "headings = [\"Company\", \"href\", \"ID\", \"Location_City\", \"Location_Country\", \"Location_Longitude\", \"Location_Latitude\", \"Name\", \"Source\", \"gbfs_href\", \"License_name\", \"License_url\", \"ebikes\"]\n",
    "with open('bike.csv', 'w', encoding=\"utf-8\", newline='') as f: # putting file name | writing mode selected | encoding standard = utf-8 | newline paratmeter is used to avoid the double spacing between rows\n",
    "    writer = csv.writer(f)\n",
    "    \n",
    "    writer.writerow(headings) # writing a row of headings\n",
    "    \n",
    "    for d in range(len(df)):\n",
    "        writer.writerow(final_list[d]) # putting of all 615 bikes under the heading respectively"
   ]
  },
  {
   "cell_type": "markdown",
   "id": "b10b0a5b",
   "metadata": {},
   "source": [
    "The data is now saved in the csv file. The next python notebook file will be used to laod this file and pre-processing will be done there."
   ]
  },
  {
   "cell_type": "markdown",
   "id": "7e9d3df5",
   "metadata": {},
   "source": [
    "### Challenges faced in collecting data:\n",
    "\n",
    "Though the data collection was easy as all the data was in json format but the values in the columns or features of the data set were in different data types. Some values in the feature were in the form of list. This part was challenging. To make all the data set easier to visualize, I expanded and opened that list in the main data set. Like the feature 'Location' had the value in list to I expanded the list in 4 values and integrate these 4 values in teh main data set. Same was done for 'License' feature. This method increased the features or columns but the data was easy to read and I was able to extract the information easily."
   ]
  },
  {
   "cell_type": "code",
   "execution_count": null,
   "id": "70a55818",
   "metadata": {},
   "outputs": [],
   "source": []
  }
 ],
 "metadata": {
  "kernelspec": {
   "display_name": "Python 3 (ipykernel)",
   "language": "python",
   "name": "python3"
  },
  "language_info": {
   "codemirror_mode": {
    "name": "ipython",
    "version": 3
   },
   "file_extension": ".py",
   "mimetype": "text/x-python",
   "name": "python",
   "nbconvert_exporter": "python",
   "pygments_lexer": "ipython3",
   "version": "3.9.12"
  }
 },
 "nbformat": 4,
 "nbformat_minor": 5
}
